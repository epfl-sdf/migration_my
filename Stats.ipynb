{
 "cells": [
  {
   "cell_type": "code",
   "execution_count": 28,
   "metadata": {
    "collapsed": true
   },
   "outputs": [],
   "source": [
    "import pandas as pd\n",
    "import glob"
   ]
  },
  {
   "cell_type": "code",
   "execution_count": 29,
   "metadata": {
    "collapsed": true
   },
   "outputs": [],
   "source": [
    "files = 'urls_myEpflGallery.out.*.csv'"
   ]
  },
  {
   "cell_type": "code",
   "execution_count": 30,
   "metadata": {},
   "outputs": [],
   "source": [
    "# Directory to find files\n",
    "path = '/home/mbanga/Epfl/migration_my'\n",
    "# Get all file names\n",
    "all_files = glob.glob(path + \"/urls_myEpflGallery.out.*.csv\")\n",
    "\n",
    "df = pd.DataFrame()\n",
    "list_ = []\n",
    "# iterate over each file to extract table\n",
    "for file_ in all_files:\n",
    "    temp_df = pd.read_csv(file_, index_col=None, header=0)\n",
    "    list_.append(temp_df)\n",
    "# concatenate the result    \n",
    "df = pd.concat(list_)\n",
    "df = df.reset_index().drop(['index'], axis=1)"
   ]
  },
  {
   "cell_type": "code",
   "execution_count": 31,
   "metadata": {},
   "outputs": [
    {
     "data": {
      "text/html": [
       "<div>\n",
       "<style>\n",
       "    .dataframe thead tr:only-child th {\n",
       "        text-align: right;\n",
       "    }\n",
       "\n",
       "    .dataframe thead th {\n",
       "        text-align: left;\n",
       "    }\n",
       "\n",
       "    .dataframe tbody tr th {\n",
       "        vertical-align: top;\n",
       "    }\n",
       "</style>\n",
       "<table border=\"1\" class=\"dataframe\">\n",
       "  <thead>\n",
       "    <tr style=\"text-align: right;\">\n",
       "      <th></th>\n",
       "      <th>domain</th>\n",
       "      <th>page</th>\n",
       "      <th>document</th>\n",
       "      <th>size [KB]</th>\n",
       "    </tr>\n",
       "  </thead>\n",
       "  <tbody>\n",
       "    <tr>\n",
       "      <th>0</th>\n",
       "      <td>https://innoseed-enac.epfl.ch</td>\n",
       "      <td>https://innoseed-enac.epfl.ch/pitch2017_gallery</td>\n",
       "      <td>https://documents.epfl.ch/users/g/gi/gilis/www...</td>\n",
       "      <td>325.048</td>\n",
       "    </tr>\n",
       "    <tr>\n",
       "      <th>1</th>\n",
       "      <td>https://innoseed-enac.epfl.ch</td>\n",
       "      <td>https://innoseed-enac.epfl.ch/pitch2017_gallery</td>\n",
       "      <td>https://documents.epfl.ch/users/g/gi/gilis/www...</td>\n",
       "      <td>320.245</td>\n",
       "    </tr>\n",
       "    <tr>\n",
       "      <th>2</th>\n",
       "      <td>https://innoseed-enac.epfl.ch</td>\n",
       "      <td>https://innoseed-enac.epfl.ch/pitch2017_gallery</td>\n",
       "      <td>https://documents.epfl.ch/users/g/gi/gilis/www...</td>\n",
       "      <td>388.748</td>\n",
       "    </tr>\n",
       "    <tr>\n",
       "      <th>3</th>\n",
       "      <td>https://innoseed-enac.epfl.ch</td>\n",
       "      <td>https://innoseed-enac.epfl.ch/pitch2017_gallery</td>\n",
       "      <td>https://documents.epfl.ch/users/g/gi/gilis/www...</td>\n",
       "      <td>340.299</td>\n",
       "    </tr>\n",
       "    <tr>\n",
       "      <th>4</th>\n",
       "      <td>https://innoseed-enac.epfl.ch</td>\n",
       "      <td>https://innoseed-enac.epfl.ch/pitch2017_gallery</td>\n",
       "      <td>https://documents.epfl.ch/users/g/gi/gilis/www...</td>\n",
       "      <td>469.783</td>\n",
       "    </tr>\n",
       "  </tbody>\n",
       "</table>\n",
       "</div>"
      ],
      "text/plain": [
       "                          domain  \\\n",
       "0  https://innoseed-enac.epfl.ch   \n",
       "1  https://innoseed-enac.epfl.ch   \n",
       "2  https://innoseed-enac.epfl.ch   \n",
       "3  https://innoseed-enac.epfl.ch   \n",
       "4  https://innoseed-enac.epfl.ch   \n",
       "\n",
       "                                              page  \\\n",
       "0  https://innoseed-enac.epfl.ch/pitch2017_gallery   \n",
       "1  https://innoseed-enac.epfl.ch/pitch2017_gallery   \n",
       "2  https://innoseed-enac.epfl.ch/pitch2017_gallery   \n",
       "3  https://innoseed-enac.epfl.ch/pitch2017_gallery   \n",
       "4  https://innoseed-enac.epfl.ch/pitch2017_gallery   \n",
       "\n",
       "                                            document  size [KB]  \n",
       "0  https://documents.epfl.ch/users/g/gi/gilis/www...    325.048  \n",
       "1  https://documents.epfl.ch/users/g/gi/gilis/www...    320.245  \n",
       "2  https://documents.epfl.ch/users/g/gi/gilis/www...    388.748  \n",
       "3  https://documents.epfl.ch/users/g/gi/gilis/www...    340.299  \n",
       "4  https://documents.epfl.ch/users/g/gi/gilis/www...    469.783  "
      ]
     },
     "execution_count": 31,
     "metadata": {},
     "output_type": "execute_result"
    }
   ],
   "source": [
    "df.head()"
   ]
  },
  {
   "cell_type": "code",
   "execution_count": 32,
   "metadata": {},
   "outputs": [
    {
     "data": {
      "text/html": [
       "<div>\n",
       "<style>\n",
       "    .dataframe thead tr:only-child th {\n",
       "        text-align: right;\n",
       "    }\n",
       "\n",
       "    .dataframe thead th {\n",
       "        text-align: left;\n",
       "    }\n",
       "\n",
       "    .dataframe tbody tr th {\n",
       "        vertical-align: top;\n",
       "    }\n",
       "</style>\n",
       "<table border=\"1\" class=\"dataframe\">\n",
       "  <thead>\n",
       "    <tr style=\"text-align: right;\">\n",
       "      <th></th>\n",
       "      <th>domain</th>\n",
       "      <th>page</th>\n",
       "      <th>document</th>\n",
       "      <th>size [KB]</th>\n",
       "    </tr>\n",
       "  </thead>\n",
       "  <tbody>\n",
       "    <tr>\n",
       "      <th>7007</th>\n",
       "      <td>http://yuva.epfl.ch</td>\n",
       "      <td>http://yuva.epfl.ch/events;jsessionid=95C35E5B...</td>\n",
       "      <td>https://documents.epfl.ch/groups/y/yu/yuva-uni...</td>\n",
       "      <td>163.934</td>\n",
       "    </tr>\n",
       "    <tr>\n",
       "      <th>7008</th>\n",
       "      <td>http://yuva.epfl.ch</td>\n",
       "      <td>http://yuva.epfl.ch/events;jsessionid=95C35E5B...</td>\n",
       "      <td>https://documents.epfl.ch/groups/y/yu/yuva-uni...</td>\n",
       "      <td>176.115</td>\n",
       "    </tr>\n",
       "    <tr>\n",
       "      <th>7009</th>\n",
       "      <td>http://yuva.epfl.ch</td>\n",
       "      <td>http://yuva.epfl.ch/events;jsessionid=95C35E5B...</td>\n",
       "      <td>https://documents.epfl.ch/groups/y/yu/yuva-uni...</td>\n",
       "      <td>127.688</td>\n",
       "    </tr>\n",
       "    <tr>\n",
       "      <th>7010</th>\n",
       "      <td>http://yuva.epfl.ch</td>\n",
       "      <td>http://yuva.epfl.ch/events;jsessionid=95C35E5B...</td>\n",
       "      <td>https://documents.epfl.ch/groups/y/yu/yuva-uni...</td>\n",
       "      <td>318.938</td>\n",
       "    </tr>\n",
       "    <tr>\n",
       "      <th>7011</th>\n",
       "      <td>http://yuva.epfl.ch</td>\n",
       "      <td>http://yuva.epfl.ch/events;jsessionid=95C35E5B...</td>\n",
       "      <td>https://documents.epfl.ch/groups/y/yu/yuva-uni...</td>\n",
       "      <td>180.293</td>\n",
       "    </tr>\n",
       "  </tbody>\n",
       "</table>\n",
       "</div>"
      ],
      "text/plain": [
       "                   domain                                               page  \\\n",
       "7007  http://yuva.epfl.ch  http://yuva.epfl.ch/events;jsessionid=95C35E5B...   \n",
       "7008  http://yuva.epfl.ch  http://yuva.epfl.ch/events;jsessionid=95C35E5B...   \n",
       "7009  http://yuva.epfl.ch  http://yuva.epfl.ch/events;jsessionid=95C35E5B...   \n",
       "7010  http://yuva.epfl.ch  http://yuva.epfl.ch/events;jsessionid=95C35E5B...   \n",
       "7011  http://yuva.epfl.ch  http://yuva.epfl.ch/events;jsessionid=95C35E5B...   \n",
       "\n",
       "                                               document  size [KB]  \n",
       "7007  https://documents.epfl.ch/groups/y/yu/yuva-uni...    163.934  \n",
       "7008  https://documents.epfl.ch/groups/y/yu/yuva-uni...    176.115  \n",
       "7009  https://documents.epfl.ch/groups/y/yu/yuva-uni...    127.688  \n",
       "7010  https://documents.epfl.ch/groups/y/yu/yuva-uni...    318.938  \n",
       "7011  https://documents.epfl.ch/groups/y/yu/yuva-uni...    180.293  "
      ]
     },
     "execution_count": 32,
     "metadata": {},
     "output_type": "execute_result"
    }
   ],
   "source": [
    "df.tail()"
   ]
  },
  {
   "cell_type": "code",
   "execution_count": 33,
   "metadata": {},
   "outputs": [],
   "source": [
    "# number of images founded\n",
    "n = len(df)"
   ]
  },
  {
   "cell_type": "code",
   "execution_count": 37,
   "metadata": {
    "collapsed": true
   },
   "outputs": [],
   "source": [
    "# helper\n",
    "kilobyte_to_gigabyte = 10**(-6)\n",
    "# Get total size of images in megabyte\n",
    "size = df['size [KB]'].sum() * kilobyte_to_gigabyte"
   ]
  },
  {
   "cell_type": "code",
   "execution_count": 38,
   "metadata": {},
   "outputs": [
    {
     "data": {
      "text/plain": [
       "6.4582947460000355"
      ]
     },
     "execution_count": 38,
     "metadata": {},
     "output_type": "execute_result"
    }
   ],
   "source": [
    "size"
   ]
  },
  {
   "cell_type": "code",
   "execution_count": 23,
   "metadata": {},
   "outputs": [
    {
     "data": {
      "text/html": [
       "<div>\n",
       "<style>\n",
       "    .dataframe thead tr:only-child th {\n",
       "        text-align: right;\n",
       "    }\n",
       "\n",
       "    .dataframe thead th {\n",
       "        text-align: left;\n",
       "    }\n",
       "\n",
       "    .dataframe tbody tr th {\n",
       "        vertical-align: top;\n",
       "    }\n",
       "</style>\n",
       "<table border=\"1\" class=\"dataframe\">\n",
       "  <thead>\n",
       "    <tr style=\"text-align: right;\">\n",
       "      <th></th>\n",
       "      <th>size [KB]</th>\n",
       "    </tr>\n",
       "    <tr>\n",
       "      <th>domain</th>\n",
       "      <th></th>\n",
       "    </tr>\n",
       "  </thead>\n",
       "  <tbody>\n",
       "    <tr>\n",
       "      <th>http://acm.epfl.ch</th>\n",
       "      <td>2374.233</td>\n",
       "    </tr>\n",
       "    <tr>\n",
       "      <th>http://adec.epfl.ch</th>\n",
       "      <td>704.086</td>\n",
       "    </tr>\n",
       "    <tr>\n",
       "      <th>http://aesv.epfl.ch</th>\n",
       "      <td>195.827</td>\n",
       "    </tr>\n",
       "    <tr>\n",
       "      <th>http://aphys.epfl.ch</th>\n",
       "      <td>604.119</td>\n",
       "    </tr>\n",
       "    <tr>\n",
       "      <th>http://apml.epfl.ch</th>\n",
       "      <td>197.970</td>\n",
       "    </tr>\n",
       "  </tbody>\n",
       "</table>\n",
       "</div>"
      ],
      "text/plain": [
       "                      size [KB]\n",
       "domain                         \n",
       "http://acm.epfl.ch     2374.233\n",
       "http://adec.epfl.ch     704.086\n",
       "http://aesv.epfl.ch     195.827\n",
       "http://aphys.epfl.ch    604.119\n",
       "http://apml.epfl.ch     197.970"
      ]
     },
     "execution_count": 23,
     "metadata": {},
     "output_type": "execute_result"
    }
   ],
   "source": [
    "df.groupby('domain').sum().head()"
   ]
  },
  {
   "cell_type": "code",
   "execution_count": 26,
   "metadata": {},
   "outputs": [
    {
     "data": {
      "text/plain": [
       "'https://documents.epfl.ch/groups/g/gr/gr-acm-unit/www/Acm/VirtualExpo/Vernc_Suisse/Jura/Bois-Rebetez-Dessous%2C%20Les%20Genevez/04%20Bois-Rebetez-Dessous%2C%20Les%20Genevez.jpg'"
      ]
     },
     "execution_count": 26,
     "metadata": {},
     "output_type": "execute_result"
    }
   ],
   "source": [
    "doc = df[df['domain'] == 'http://acm.epfl.ch']['document'].iloc[0]"
   ]
  }
 ],
 "metadata": {
  "kernelspec": {
   "display_name": "Python 3",
   "language": "python",
   "name": "python3"
  },
  "language_info": {
   "codemirror_mode": {
    "name": "ipython",
    "version": 3
   },
   "file_extension": ".py",
   "mimetype": "text/x-python",
   "name": "python",
   "nbconvert_exporter": "python",
   "pygments_lexer": "ipython3",
   "version": "3.6.1"
  }
 },
 "nbformat": 4,
 "nbformat_minor": 2
}
